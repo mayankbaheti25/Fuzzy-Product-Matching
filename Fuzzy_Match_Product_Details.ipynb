{
 "cells": [
  {
   "cell_type": "code",
   "execution_count": 2,
   "metadata": {},
   "outputs": [
    {
     "name": "stderr",
     "output_type": "stream",
     "text": [
      "C:\\Users\\maybaheti\\AppData\\Local\\Continuum\\anaconda3\\lib\\site-packages\\fuzzywuzzy\\fuzz.py:11: UserWarning: Using slow pure-python SequenceMatcher. Install python-Levenshtein to remove this warning\n",
      "  warnings.warn('Using slow pure-python SequenceMatcher. Install python-Levenshtein to remove this warning')\n"
     ]
    }
   ],
   "source": [
    "# fuzz is used to compare TWO strings\n",
    "from fuzzywuzzy import fuzz\n",
    "\n",
    "# process is used to compare a string to MULTIPLE other strings\n",
    "from fuzzywuzzy import process\n",
    "\n",
    "#to read the data from excel to pandas dataframes\n",
    "import pandas as pd"
   ]
  },
  {
   "cell_type": "code",
   "execution_count": 3,
   "metadata": {},
   "outputs": [],
   "source": [
    "#Read the data in two separate dataframes\n",
    "software_Catalog = pd.read_excel(\"Data.xlsx\",sheet_name=\"Software Catalog\")\n",
    "Tagged_Catalog = pd.read_excel(\"Data.xlsx\",sheet_name=\"Tagged Catalog\")"
   ]
  },
  {
   "cell_type": "code",
   "execution_count": 4,
   "metadata": {},
   "outputs": [],
   "source": [
    "#Function to remove regex (https://www. or http://www. from the website column)\n",
    "def remove_prefix_website(column):\n",
    "    return(column.str.replace('http\\S', '', case=False).str.replace('://|//|www.', '', case=False))"
   ]
  },
  {
   "cell_type": "code",
   "execution_count": 5,
   "metadata": {},
   "outputs": [],
   "source": [
    "#Function to compare the two values and get a fuzzy score for it using Levenstine Distance\n",
    "#This function require four parameters:\n",
    "#1. type_to_be_matched: Product / Website\n",
    "#2. Client_df: Client Data\n",
    "#3. Tagged_df = Tagged Data\n",
    "#4. threshold: how much fuzzy score is exceptable\n",
    "#It returns a dataframe with 3 columns: Client data,Tagged data and each of the row's fuzzy score\n",
    "\n",
    "def match_columns(type_to_be_matched,Client_df,Tagged_df,threshold=90):\n",
    "    matched_list = []\n",
    "    \n",
    "    for row in Client_df.index:\n",
    "        client_name = Client_df.get_value(row,\"Software Catalog \"+str(type_to_be_matched))\n",
    "        for columns in Tagged_df.index:\n",
    "            Tagged_name=Tagged_df.get_value(columns,\"Tagged \"+str(type_to_be_matched))\n",
    "            matched_token=fuzz.partial_ratio(client_name,Tagged_name)\n",
    "            if matched_token>= threshold:\n",
    "                matched_list.append([client_name,Tagged_name,matched_token])\n",
    "    return(pd.DataFrame(matched_list))"
   ]
  },
  {
   "cell_type": "code",
   "execution_count": 5,
   "metadata": {},
   "outputs": [],
   "source": [
    "# Calling remove_prefix_website function which we created above\n",
    "Tagged_Catalog['Tagged Website'] = remove_prefix_website(Tagged_Catalog['Tagged Website'])\n",
    "software_Catalog['Software Catalog Website'] = remove_prefix_website(software_Catalog['Software Catalog Website'])"
   ]
  },
  {
   "cell_type": "code",
   "execution_count": 6,
   "metadata": {
    "scrolled": true
   },
   "outputs": [
    {
     "name": "stderr",
     "output_type": "stream",
     "text": [
      "C:\\Users\\maybaheti\\AppData\\Local\\Continuum\\anaconda3\\lib\\site-packages\\ipykernel_launcher.py:13: FutureWarning: get_value is deprecated and will be removed in a future release. Please use .at[] or .iat[] accessors instead\n",
      "  del sys.path[0]\n",
      "C:\\Users\\maybaheti\\AppData\\Local\\Continuum\\anaconda3\\lib\\site-packages\\ipykernel_launcher.py:15: FutureWarning: get_value is deprecated and will be removed in a future release. Please use .at[] or .iat[] accessors instead\n",
      "  from ipykernel import kernelapp as app\n"
     ]
    }
   ],
   "source": [
    "# Calling match_columns function which we created above to get the fuzzy score for the products\n",
    "matched_product = match_columns(type_to_be_matched=\"Product\",Client_df=software_Catalog,Tagged_df=Tagged_Catalog,threshold=88)\n",
    "matched_product.columns = ['Software Catalog Product','Tagged Product','Product_Fuzzy_Score']"
   ]
  },
  {
   "cell_type": "code",
   "execution_count": 7,
   "metadata": {},
   "outputs": [],
   "source": [
    "#Merge the matched products with the websites of Client's data and Tagged data\n",
    "df1 = pd.merge(matched_product,software_Catalog,on=\"Software Catalog Product\")\n",
    "df2 = pd.merge(df1,Tagged_Catalog,on=\"Tagged Product\")"
   ]
  },
  {
   "cell_type": "code",
   "execution_count": 8,
   "metadata": {},
   "outputs": [],
   "source": [
    "#Calculate the fuzzy score for the website as well\n",
    "matched_list = []\n",
    "for i in range(len(df2)):\n",
    "    matched_token = fuzz.partial_ratio(df2['Tagged Website'][i],df2['Software Catalog Website'][i])\n",
    "    matched_list.append([df2['Software Catalog Website'][i],df2['Tagged Website'][i],matched_token])\n",
    "df2['Website_Fuzzy_Score'] =pd.DataFrame(matched_list)[2]"
   ]
  },
  {
   "cell_type": "code",
   "execution_count": 10,
   "metadata": {},
   "outputs": [],
   "source": [
    "#Select only the relevant columns for the output\n",
    "Matched_Products= df2[[\"Software Catalog Product\",\"Software Catalog Website\",\"Tagged Product\",\"Tagged Website\"]]"
   ]
  },
  {
   "cell_type": "code",
   "execution_count": 11,
   "metadata": {},
   "outputs": [],
   "source": [
    "#Getting rid of some duplicates records in the data and push the data to the csv file.\n",
    "Matched_Products.sort_values(\"Tagged Product\").groupby('Software Catalog Product').tail(1).to_csv(\"Matched_Products.csv\",index = False)\n",
    "\n",
    "#We were able to match 176 Products out of 284 Tagged Product Category."
   ]
  }
 ],
 "metadata": {
  "kernelspec": {
   "display_name": "Python 3",
   "language": "python",
   "name": "python3"
  },
  "language_info": {
   "codemirror_mode": {
    "name": "ipython",
    "version": 3
   },
   "file_extension": ".py",
   "mimetype": "text/x-python",
   "name": "python",
   "nbconvert_exporter": "python",
   "pygments_lexer": "ipython3",
   "version": "3.6.4"
  }
 },
 "nbformat": 4,
 "nbformat_minor": 2
}
